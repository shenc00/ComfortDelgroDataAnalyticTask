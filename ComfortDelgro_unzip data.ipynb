{
 "cells": [
  {
   "cell_type": "markdown",
   "metadata": {},
   "source": [
    "### Initialization"
   ]
  },
  {
   "cell_type": "code",
   "execution_count": 1,
   "metadata": {},
   "outputs": [],
   "source": [
    "# load libraries\n",
    "import glob\n",
    "import pandas as pd\n",
    "import os"
   ]
  },
  {
   "cell_type": "code",
   "execution_count": 2,
   "metadata": {},
   "outputs": [],
   "source": [
    "# set directory\n",
    "root_dir = \"C:/Users/Shenc/Documents/Data Analytics/Interview/comfortdelgro/2009/\"\n",
    "destination = \"C:/Users/Shenc/Documents/Data Analytics/Interview/comfortdelgro/Extract Files/\""
   ]
  },
  {
   "cell_type": "markdown",
   "metadata": {},
   "source": [
    "### Import Dataset"
   ]
  },
  {
   "cell_type": "code",
   "execution_count": 3,
   "metadata": {},
   "outputs": [],
   "source": [
    "# initiate an empty list\n",
    "list=[]\n",
    "\n",
    "# loop through a list of file names\n",
    "for filename in glob.iglob(root_dir + '**/**/***.txt.gz', recursive=False):\n",
    "    list.append(filename)"
   ]
  },
  {
   "cell_type": "code",
   "execution_count": 4,
   "metadata": {},
   "outputs": [
    {
     "data": {
      "text/plain": [
       "15770"
      ]
     },
     "execution_count": 4,
     "metadata": {},
     "output_type": "execute_result"
    }
   ],
   "source": [
    "# count items in the list\n",
    "len(list)"
   ]
  },
  {
   "cell_type": "code",
   "execution_count": 5,
   "metadata": {},
   "outputs": [],
   "source": [
    "# check for duplicates\n",
    "\n",
    "# import collections\n",
    "# print([item for item, count in collections.Counter(list).items() if count > 1])"
   ]
  },
  {
   "cell_type": "code",
   "execution_count": 6,
   "metadata": {},
   "outputs": [],
   "source": [
    "# initiate an empty list\n",
    "df_list = []\n",
    "\n",
    "# unzip all txt files and convert into pandas df\n",
    "for i in list:\n",
    "    df = pd.read_csv(i, compression='gzip', header=0, sep=None, quotechar='\"', error_bad_lines=False, \n",
    "                     engine = 'python', index_col=False, encoding = \"utf_8\")\n",
    "    df_list.append(df)"
   ]
  },
  {
   "cell_type": "code",
   "execution_count": 7,
   "metadata": {},
   "outputs": [
    {
     "data": {
      "text/plain": [
       "15770"
      ]
     },
     "execution_count": 7,
     "metadata": {},
     "output_type": "execute_result"
    }
   ],
   "source": [
    "len(df_list)"
   ]
  },
  {
   "cell_type": "markdown",
   "metadata": {},
   "source": [
    "### Data Transformation "
   ]
  },
  {
   "cell_type": "code",
   "execution_count": 8,
   "metadata": {},
   "outputs": [],
   "source": [
    "# concatenate to a single df\n",
    "df_con = pd.concat(df_list)"
   ]
  },
  {
   "cell_type": "code",
   "execution_count": 9,
   "metadata": {},
   "outputs": [
    {
     "data": {
      "text/html": [
       "<div>\n",
       "<style scoped>\n",
       "    .dataframe tbody tr th:only-of-type {\n",
       "        vertical-align: middle;\n",
       "    }\n",
       "\n",
       "    .dataframe tbody tr th {\n",
       "        vertical-align: top;\n",
       "    }\n",
       "\n",
       "    .dataframe thead th {\n",
       "        text-align: right;\n",
       "    }\n",
       "</style>\n",
       "<table border=\"1\" class=\"dataframe\">\n",
       "  <thead>\n",
       "    <tr style=\"text-align: right;\">\n",
       "      <th></th>\n",
       "      <th>﻿Date</th>\n",
       "      <th>StoreID</th>\n",
       "      <th>StoreName</th>\n",
       "      <th>ProductID</th>\n",
       "      <th>ProductName</th>\n",
       "      <th>Color</th>\n",
       "      <th>Size</th>\n",
       "      <th>Manufacturer</th>\n",
       "      <th>OnHandQuantity</th>\n",
       "      <th>OnOrderQuantity</th>\n",
       "      <th>SafetyStockQuantity</th>\n",
       "      <th>UnitCost</th>\n",
       "      <th>DaysInStock</th>\n",
       "      <th>MinDayInStock</th>\n",
       "      <th>MaxDayInStock</th>\n",
       "    </tr>\n",
       "  </thead>\n",
       "  <tbody>\n",
       "    <tr>\n",
       "      <th>0</th>\n",
       "      <td>2009-01-03</td>\n",
       "      <td>1</td>\n",
       "      <td>Contoso Seattle No.1 Store</td>\n",
       "      <td>6</td>\n",
       "      <td>Contoso 2G MP3 Player E200 Black</td>\n",
       "      <td>Black</td>\n",
       "      <td>1.6 x 0.4 x 3.7</td>\n",
       "      <td>Contoso, Ltd</td>\n",
       "      <td>19</td>\n",
       "      <td>0</td>\n",
       "      <td>24</td>\n",
       "      <td>11.00</td>\n",
       "      <td>60</td>\n",
       "      <td>43</td>\n",
       "      <td>76</td>\n",
       "    </tr>\n",
       "    <tr>\n",
       "      <th>1</th>\n",
       "      <td>2009-01-03</td>\n",
       "      <td>1</td>\n",
       "      <td>Contoso Seattle No.1 Store</td>\n",
       "      <td>29</td>\n",
       "      <td>Contoso 32GB Video MP3 Player M3200 White</td>\n",
       "      <td>White</td>\n",
       "      <td>1 x 1.6 x 3.7</td>\n",
       "      <td>Contoso, Ltd</td>\n",
       "      <td>19</td>\n",
       "      <td>0</td>\n",
       "      <td>12</td>\n",
       "      <td>84.49</td>\n",
       "      <td>58</td>\n",
       "      <td>11</td>\n",
       "      <td>97</td>\n",
       "    </tr>\n",
       "    <tr>\n",
       "      <th>2</th>\n",
       "      <td>2009-01-03</td>\n",
       "      <td>1</td>\n",
       "      <td>Contoso Seattle No.1 Store</td>\n",
       "      <td>31</td>\n",
       "      <td>Contoso 32GB Video MP3 Player M3200 Orange</td>\n",
       "      <td>Orange</td>\n",
       "      <td>2.6 x 2.5 x 0.6</td>\n",
       "      <td>Contoso, Ltd</td>\n",
       "      <td>19</td>\n",
       "      <td>0</td>\n",
       "      <td>6</td>\n",
       "      <td>84.49</td>\n",
       "      <td>63</td>\n",
       "      <td>17</td>\n",
       "      <td>111</td>\n",
       "    </tr>\n",
       "    <tr>\n",
       "      <th>3</th>\n",
       "      <td>2009-01-03</td>\n",
       "      <td>1</td>\n",
       "      <td>Contoso Seattle No.1 Store</td>\n",
       "      <td>51</td>\n",
       "      <td>WWI 2GB Pulse Smart pen M100 Blue</td>\n",
       "      <td>Blue</td>\n",
       "      <td>6 x 0.5 x 0.5</td>\n",
       "      <td>Wide World Importers</td>\n",
       "      <td>19</td>\n",
       "      <td>0</td>\n",
       "      <td>6</td>\n",
       "      <td>91.95</td>\n",
       "      <td>79</td>\n",
       "      <td>12</td>\n",
       "      <td>86</td>\n",
       "    </tr>\n",
       "    <tr>\n",
       "      <th>4</th>\n",
       "      <td>2009-01-03</td>\n",
       "      <td>1</td>\n",
       "      <td>Contoso Seattle No.1 Store</td>\n",
       "      <td>54</td>\n",
       "      <td>WWI 4GB Video Recording Pen X200 Red</td>\n",
       "      <td>Red</td>\n",
       "      <td>5.1  x 2.4  x 3.9</td>\n",
       "      <td>Wide World Importers</td>\n",
       "      <td>23</td>\n",
       "      <td>4</td>\n",
       "      <td>18</td>\n",
       "      <td>98.07</td>\n",
       "      <td>30</td>\n",
       "      <td>30</td>\n",
       "      <td>71</td>\n",
       "    </tr>\n",
       "  </tbody>\n",
       "</table>\n",
       "</div>"
      ],
      "text/plain": [
       "        ﻿Date  StoreID                   StoreName  ProductID  \\\n",
       "0  2009-01-03        1  Contoso Seattle No.1 Store          6   \n",
       "1  2009-01-03        1  Contoso Seattle No.1 Store         29   \n",
       "2  2009-01-03        1  Contoso Seattle No.1 Store         31   \n",
       "3  2009-01-03        1  Contoso Seattle No.1 Store         51   \n",
       "4  2009-01-03        1  Contoso Seattle No.1 Store         54   \n",
       "\n",
       "                                  ProductName   Color                Size  \\\n",
       "0            Contoso 2G MP3 Player E200 Black   Black     1.6 x 0.4 x 3.7   \n",
       "1   Contoso 32GB Video MP3 Player M3200 White   White       1 x 1.6 x 3.7   \n",
       "2  Contoso 32GB Video MP3 Player M3200 Orange  Orange     2.6 x 2.5 x 0.6   \n",
       "3           WWI 2GB Pulse Smart pen M100 Blue    Blue       6 x 0.5 x 0.5   \n",
       "4        WWI 4GB Video Recording Pen X200 Red     Red  5.1  x 2.4  x 3.9    \n",
       "\n",
       "           Manufacturer  OnHandQuantity  OnOrderQuantity  SafetyStockQuantity  \\\n",
       "0          Contoso, Ltd              19                0                   24   \n",
       "1          Contoso, Ltd              19                0                   12   \n",
       "2          Contoso, Ltd              19                0                    6   \n",
       "3  Wide World Importers              19                0                    6   \n",
       "4  Wide World Importers              23                4                   18   \n",
       "\n",
       "   UnitCost  DaysInStock  MinDayInStock  MaxDayInStock  \n",
       "0     11.00           60             43             76  \n",
       "1     84.49           58             11             97  \n",
       "2     84.49           63             17            111  \n",
       "3     91.95           79             12             86  \n",
       "4     98.07           30             30             71  "
      ]
     },
     "execution_count": 9,
     "metadata": {},
     "output_type": "execute_result"
    }
   ],
   "source": [
    "df_con.head()"
   ]
  },
  {
   "cell_type": "code",
   "execution_count": 44,
   "metadata": {},
   "outputs": [],
   "source": [
    "# create a new df with selected columns\n",
    "df_new = df_con.iloc[:, [0, 1, 3, 8, 9, 12, 13, 14]]"
   ]
  },
  {
   "cell_type": "code",
   "execution_count": 45,
   "metadata": {},
   "outputs": [],
   "source": [
    "# rename columns\n",
    "df_new.columns = [\"DateID\", \"StoreID\", \"ProductID\", \"OnHandQty\", \"OnOrderQty\", \"DaysInStock\", \"MinDayInStock\", \"MaxDayInStock\"]"
   ]
  },
  {
   "cell_type": "code",
   "execution_count": 46,
   "metadata": {},
   "outputs": [],
   "source": [
    "pd.options.mode.chained_assignment = None # suppress warning\n",
    "\n",
    "# update \"Date\" column to type date\n",
    "df_new[\"DateID\"] = pd.to_datetime(df_new[\"DateID\"], format=\"%Y-%m-%d\")"
   ]
  },
  {
   "cell_type": "code",
   "execution_count": 47,
   "metadata": {},
   "outputs": [],
   "source": [
    "# insert column \"Month\"\n",
    "df_new['month'] = df_new['DateID'].dt.month"
   ]
  },
  {
   "cell_type": "code",
   "execution_count": 41,
   "metadata": {},
   "outputs": [
    {
     "data": {
      "text/plain": [
       "(1547897, 9)"
      ]
     },
     "execution_count": 41,
     "metadata": {},
     "output_type": "execute_result"
    }
   ],
   "source": [
    "df_new.shape"
   ]
  },
  {
   "cell_type": "code",
   "execution_count": 42,
   "metadata": {},
   "outputs": [
    {
     "data": {
      "text/html": [
       "<div>\n",
       "<style scoped>\n",
       "    .dataframe tbody tr th:only-of-type {\n",
       "        vertical-align: middle;\n",
       "    }\n",
       "\n",
       "    .dataframe tbody tr th {\n",
       "        vertical-align: top;\n",
       "    }\n",
       "\n",
       "    .dataframe thead th {\n",
       "        text-align: right;\n",
       "    }\n",
       "</style>\n",
       "<table border=\"1\" class=\"dataframe\">\n",
       "  <thead>\n",
       "    <tr style=\"text-align: right;\">\n",
       "      <th></th>\n",
       "      <th>DateID</th>\n",
       "      <th>StoreID</th>\n",
       "      <th>ProductID</th>\n",
       "      <th>OnHandQty</th>\n",
       "      <th>OnOrderQty</th>\n",
       "      <th>DaysInStock</th>\n",
       "      <th>MinDayInStock</th>\n",
       "      <th>MaxDayInStock</th>\n",
       "      <th>month</th>\n",
       "    </tr>\n",
       "  </thead>\n",
       "  <tbody>\n",
       "    <tr>\n",
       "      <th>0</th>\n",
       "      <td>2009-01-03</td>\n",
       "      <td>1</td>\n",
       "      <td>6</td>\n",
       "      <td>19</td>\n",
       "      <td>0</td>\n",
       "      <td>60</td>\n",
       "      <td>43</td>\n",
       "      <td>76</td>\n",
       "      <td>1</td>\n",
       "    </tr>\n",
       "    <tr>\n",
       "      <th>1</th>\n",
       "      <td>2009-01-03</td>\n",
       "      <td>1</td>\n",
       "      <td>29</td>\n",
       "      <td>19</td>\n",
       "      <td>0</td>\n",
       "      <td>58</td>\n",
       "      <td>11</td>\n",
       "      <td>97</td>\n",
       "      <td>1</td>\n",
       "    </tr>\n",
       "    <tr>\n",
       "      <th>2</th>\n",
       "      <td>2009-01-03</td>\n",
       "      <td>1</td>\n",
       "      <td>31</td>\n",
       "      <td>19</td>\n",
       "      <td>0</td>\n",
       "      <td>63</td>\n",
       "      <td>17</td>\n",
       "      <td>111</td>\n",
       "      <td>1</td>\n",
       "    </tr>\n",
       "    <tr>\n",
       "      <th>3</th>\n",
       "      <td>2009-01-03</td>\n",
       "      <td>1</td>\n",
       "      <td>51</td>\n",
       "      <td>19</td>\n",
       "      <td>0</td>\n",
       "      <td>79</td>\n",
       "      <td>12</td>\n",
       "      <td>86</td>\n",
       "      <td>1</td>\n",
       "    </tr>\n",
       "    <tr>\n",
       "      <th>4</th>\n",
       "      <td>2009-01-03</td>\n",
       "      <td>1</td>\n",
       "      <td>54</td>\n",
       "      <td>23</td>\n",
       "      <td>4</td>\n",
       "      <td>30</td>\n",
       "      <td>30</td>\n",
       "      <td>71</td>\n",
       "      <td>1</td>\n",
       "    </tr>\n",
       "  </tbody>\n",
       "</table>\n",
       "</div>"
      ],
      "text/plain": [
       "      DateID  StoreID  ProductID  OnHandQty  OnOrderQty  DaysInStock  \\\n",
       "0 2009-01-03        1          6         19           0           60   \n",
       "1 2009-01-03        1         29         19           0           58   \n",
       "2 2009-01-03        1         31         19           0           63   \n",
       "3 2009-01-03        1         51         19           0           79   \n",
       "4 2009-01-03        1         54         23           4           30   \n",
       "\n",
       "   MinDayInStock  MaxDayInStock  month  \n",
       "0             43             76      1  \n",
       "1             11             97      1  \n",
       "2             17            111      1  \n",
       "3             12             86      1  \n",
       "4             30             71      1  "
      ]
     },
     "execution_count": 42,
     "metadata": {},
     "output_type": "execute_result"
    }
   ],
   "source": [
    "df_new.head()"
   ]
  },
  {
   "cell_type": "code",
   "execution_count": 43,
   "metadata": {},
   "outputs": [
    {
     "name": "stdout",
     "output_type": "stream",
     "text": [
      "<class 'pandas.core.frame.DataFrame'>\n",
      "Int64Index: 1547897 entries, 0 to 386\n",
      "Data columns (total 9 columns):\n",
      " #   Column         Non-Null Count    Dtype         \n",
      "---  ------         --------------    -----         \n",
      " 0   DateID         1547897 non-null  datetime64[ns]\n",
      " 1   StoreID        1547897 non-null  int64         \n",
      " 2   ProductID      1547897 non-null  int64         \n",
      " 3   OnHandQty      1547897 non-null  int64         \n",
      " 4   OnOrderQty     1547897 non-null  int64         \n",
      " 5   DaysInStock    1547897 non-null  int64         \n",
      " 6   MinDayInStock  1547897 non-null  int64         \n",
      " 7   MaxDayInStock  1547897 non-null  int64         \n",
      " 8   month          1547897 non-null  int64         \n",
      "dtypes: datetime64[ns](1), int64(8)\n",
      "memory usage: 118.1 MB\n"
     ]
    }
   ],
   "source": [
    "df_new.info()"
   ]
  },
  {
   "cell_type": "markdown",
   "metadata": {},
   "source": [
    "### Export Dataset"
   ]
  },
  {
   "cell_type": "code",
   "execution_count": 9,
   "metadata": {},
   "outputs": [],
   "source": [
    "# print all csv to dirctory\n",
    "for index, dataset in enumerate(df_list):\n",
    "\n",
    "    # Export to CSV\n",
    "    filepath = os.path.join(destination, 'dataset_'+str(index)+'.csv')\n",
    "    dataset.to_csv(filepath)"
   ]
  },
  {
   "cell_type": "markdown",
   "metadata": {},
   "source": [
    "### Exploratory Analysis"
   ]
  },
  {
   "cell_type": "code",
   "execution_count": 90,
   "metadata": {},
   "outputs": [],
   "source": [
    "# load libraries\n",
    "import seaborn as sns\n",
    "import matplotlib.pyplot as plt\n",
    "from matplotlib import rcParams"
   ]
  },
  {
   "cell_type": "code",
   "execution_count": 111,
   "metadata": {},
   "outputs": [
    {
     "name": "stdout",
     "output_type": "stream",
     "text": [
      "Number of unique ProductID is 2508\n",
      "Number of unique StoreID is 306\n"
     ]
    }
   ],
   "source": [
    "# objective: dataset overview (no. of products in each store)\n",
    "print(\"Number of unique ProductID is \" + str(df_new[\"ProductID\"].nunique()))\n",
    "print(\"Number of unique StoreID is \" + str(df_new[\"StoreID\"].nunique()))"
   ]
  },
  {
   "cell_type": "code",
   "execution_count": 112,
   "metadata": {},
   "outputs": [
    {
     "data": {
      "text/html": [
       "<div>\n",
       "<style scoped>\n",
       "    .dataframe tbody tr th:only-of-type {\n",
       "        vertical-align: middle;\n",
       "    }\n",
       "\n",
       "    .dataframe tbody tr th {\n",
       "        vertical-align: top;\n",
       "    }\n",
       "\n",
       "    .dataframe thead th {\n",
       "        text-align: right;\n",
       "    }\n",
       "</style>\n",
       "<table border=\"1\" class=\"dataframe\">\n",
       "  <thead>\n",
       "    <tr style=\"text-align: right;\">\n",
       "      <th></th>\n",
       "      <th>StoreID</th>\n",
       "      <th>ProdCount</th>\n",
       "    </tr>\n",
       "  </thead>\n",
       "  <tbody>\n",
       "    <tr>\n",
       "      <th>0</th>\n",
       "      <td>1</td>\n",
       "      <td>850</td>\n",
       "    </tr>\n",
       "    <tr>\n",
       "      <th>1</th>\n",
       "      <td>2</td>\n",
       "      <td>884</td>\n",
       "    </tr>\n",
       "    <tr>\n",
       "      <th>2</th>\n",
       "      <td>3</td>\n",
       "      <td>871</td>\n",
       "    </tr>\n",
       "    <tr>\n",
       "      <th>3</th>\n",
       "      <td>4</td>\n",
       "      <td>877</td>\n",
       "    </tr>\n",
       "    <tr>\n",
       "      <th>4</th>\n",
       "      <td>5</td>\n",
       "      <td>890</td>\n",
       "    </tr>\n",
       "  </tbody>\n",
       "</table>\n",
       "</div>"
      ],
      "text/plain": [
       "   StoreID  ProdCount\n",
       "0        1        850\n",
       "1        2        884\n",
       "2        3        871\n",
       "3        4        877\n",
       "4        5        890"
      ]
     },
     "execution_count": 112,
     "metadata": {},
     "output_type": "execute_result"
    }
   ],
   "source": [
    "# count number of products per store\n",
    "df_prodcount = df_new.groupby('StoreID')['ProductID'].nunique()\n",
    "df_prodcount = pd.DataFrame(df_prodcount).reset_index()\n",
    "df_prodcount.columns = ['StoreID', 'ProdCount']\n",
    "df_prodcount.head()"
   ]
  },
  {
   "cell_type": "code",
   "execution_count": 127,
   "metadata": {},
   "outputs": [
    {
     "data": {
      "image/png": "[encoded data removed]",
      "text/plain": [
       "<Figure size 576x576 with 1 Axes>"
      ]
     },
     "metadata": {
      "needs_background": "light"
     },
     "output_type": "display_data"
    }
   ],
   "source": [
    "# set figure size in inches\n",
    "rcParams['figure.figsize'] = 8,8\n",
    "\n",
    "ax = sns.boxplot(y = df_prodcount[\"ProdCount\"], palette=\"Blues\")\n",
    "ax.set_title('Distribution of number of ProductID across StoreID', fontsize=16);\n",
    "plt.show()"
   ]
  },
  {
   "cell_type": "code",
   "execution_count": 109,
   "metadata": {},
   "outputs": [
    {
     "data": {
      "text/html": [
       "<div>\n",
       "<style scoped>\n",
       "    .dataframe tbody tr th:only-of-type {\n",
       "        vertical-align: middle;\n",
       "    }\n",
       "\n",
       "    .dataframe tbody tr th {\n",
       "        vertical-align: top;\n",
       "    }\n",
       "\n",
       "    .dataframe thead th {\n",
       "        text-align: right;\n",
       "    }\n",
       "</style>\n",
       "<table border=\"1\" class=\"dataframe\">\n",
       "  <thead>\n",
       "    <tr style=\"text-align: right;\">\n",
       "      <th></th>\n",
       "      <th>StoreID</th>\n",
       "      <th>ProdCount</th>\n",
       "    </tr>\n",
       "  </thead>\n",
       "  <tbody>\n",
       "    <tr>\n",
       "      <th>196</th>\n",
       "      <td>199</td>\n",
       "      <td>2504</td>\n",
       "    </tr>\n",
       "    <tr>\n",
       "      <th>197</th>\n",
       "      <td>200</td>\n",
       "      <td>2505</td>\n",
       "    </tr>\n",
       "    <tr>\n",
       "      <th>301</th>\n",
       "      <td>306</td>\n",
       "      <td>2504</td>\n",
       "    </tr>\n",
       "    <tr>\n",
       "      <th>302</th>\n",
       "      <td>307</td>\n",
       "      <td>2506</td>\n",
       "    </tr>\n",
       "    <tr>\n",
       "      <th>303</th>\n",
       "      <td>308</td>\n",
       "      <td>2504</td>\n",
       "    </tr>\n",
       "    <tr>\n",
       "      <th>304</th>\n",
       "      <td>309</td>\n",
       "      <td>2505</td>\n",
       "    </tr>\n",
       "    <tr>\n",
       "      <th>305</th>\n",
       "      <td>310</td>\n",
       "      <td>2504</td>\n",
       "    </tr>\n",
       "  </tbody>\n",
       "</table>\n",
       "</div>"
      ],
      "text/plain": [
       "     StoreID  ProdCount\n",
       "196      199       2504\n",
       "197      200       2505\n",
       "301      306       2504\n",
       "302      307       2506\n",
       "303      308       2504\n",
       "304      309       2505\n",
       "305      310       2504"
      ]
     },
     "execution_count": 109,
     "metadata": {},
     "output_type": "execute_result"
    }
   ],
   "source": [
    "# stores with product count more than 1500\n",
    "df_prodcount[(df_prodcount.ProdCount > 1500)]"
   ]
  },
  {
   "cell_type": "code",
   "execution_count": 110,
   "metadata": {},
   "outputs": [
    {
     "data": {
      "text/html": [
       "<div>\n",
       "<style scoped>\n",
       "    .dataframe tbody tr th:only-of-type {\n",
       "        vertical-align: middle;\n",
       "    }\n",
       "\n",
       "    .dataframe tbody tr th {\n",
       "        vertical-align: top;\n",
       "    }\n",
       "\n",
       "    .dataframe thead th {\n",
       "        text-align: right;\n",
       "    }\n",
       "</style>\n",
       "<table border=\"1\" class=\"dataframe\">\n",
       "  <thead>\n",
       "    <tr style=\"text-align: right;\">\n",
       "      <th></th>\n",
       "      <th>StoreID</th>\n",
       "      <th>ProdCount</th>\n",
       "    </tr>\n",
       "  </thead>\n",
       "  <tbody>\n",
       "    <tr>\n",
       "      <th>63</th>\n",
       "      <td>65</td>\n",
       "      <td>383</td>\n",
       "    </tr>\n",
       "    <tr>\n",
       "      <th>220</th>\n",
       "      <td>223</td>\n",
       "      <td>326</td>\n",
       "    </tr>\n",
       "  </tbody>\n",
       "</table>\n",
       "</div>"
      ],
      "text/plain": [
       "     StoreID  ProdCount\n",
       "63        65        383\n",
       "220      223        326"
      ]
     },
     "execution_count": 110,
     "metadata": {},
     "output_type": "execute_result"
    }
   ],
   "source": [
    "# stores with product count less than 500\n",
    "df_prodcount[(df_prodcount.ProdCount < 500)]"
   ]
  },
  {
   "cell_type": "code",
   "execution_count": 158,
   "metadata": {},
   "outputs": [
    {
     "data": {
      "text/html": [
       "<div>\n",
       "<style scoped>\n",
       "    .dataframe tbody tr th:only-of-type {\n",
       "        vertical-align: middle;\n",
       "    }\n",
       "\n",
       "    .dataframe tbody tr th {\n",
       "        vertical-align: top;\n",
       "    }\n",
       "\n",
       "    .dataframe thead th {\n",
       "        text-align: right;\n",
       "    }\n",
       "</style>\n",
       "<table border=\"1\" class=\"dataframe\">\n",
       "  <thead>\n",
       "    <tr style=\"text-align: right;\">\n",
       "      <th></th>\n",
       "      <th>StoreID</th>\n",
       "      <th>month</th>\n",
       "      <th>Inv</th>\n",
       "    </tr>\n",
       "  </thead>\n",
       "  <tbody>\n",
       "    <tr>\n",
       "      <th>0</th>\n",
       "      <td>1</td>\n",
       "      <td>1</td>\n",
       "      <td>11042</td>\n",
       "    </tr>\n",
       "    <tr>\n",
       "      <th>1</th>\n",
       "      <td>1</td>\n",
       "      <td>2</td>\n",
       "      <td>7746</td>\n",
       "    </tr>\n",
       "    <tr>\n",
       "      <th>2</th>\n",
       "      <td>1</td>\n",
       "      <td>3</td>\n",
       "      <td>6608</td>\n",
       "    </tr>\n",
       "    <tr>\n",
       "      <th>3</th>\n",
       "      <td>1</td>\n",
       "      <td>4</td>\n",
       "      <td>7056</td>\n",
       "    </tr>\n",
       "    <tr>\n",
       "      <th>4</th>\n",
       "      <td>1</td>\n",
       "      <td>5</td>\n",
       "      <td>9698</td>\n",
       "    </tr>\n",
       "  </tbody>\n",
       "</table>\n",
       "</div>"
      ],
      "text/plain": [
       "   StoreID  month    Inv\n",
       "0        1      1  11042\n",
       "1        1      2   7746\n",
       "2        1      3   6608\n",
       "3        1      4   7056\n",
       "4        1      5   9698"
      ]
     },
     "execution_count": 158,
     "metadata": {},
     "output_type": "execute_result"
    }
   ],
   "source": [
    "# objective: dataset overview (total inventory in each store per month)\n",
    "\n",
    "# count number of inventory per store per month\n",
    "df_invcount = df_new.groupby(['StoreID', 'month'])['OnHandQty'].sum()\n",
    "df_invcount = pd.DataFrame(df_invcount).reset_index()\n",
    "df_invcount.columns = ['StoreID', 'month', 'Inv']\n",
    "df_invcount.head()"
   ]
  },
  {
   "cell_type": "code",
   "execution_count": 159,
   "metadata": {},
   "outputs": [
    {
     "data": {
      "image/png": "[encoded data removed]",
      "text/plain": [
       "<Figure size 576x576 with 1 Axes>"
      ]
     },
     "metadata": {
      "needs_background": "light"
     },
     "output_type": "display_data"
    }
   ],
   "source": [
    "bx = sns.violinplot(x=\"month\", y=\"Inv\", split=True, data=df_invcount)\n",
    "bx.set_title('Distribution of total inventory per month', fontsize=16);"
   ]
  },
  {
   "cell_type": "code",
   "execution_count": 169,
   "metadata": {},
   "outputs": [
    {
     "data": {
      "text/html": [
       "<div>\n",
       "<style scoped>\n",
       "    .dataframe tbody tr th:only-of-type {\n",
       "        vertical-align: middle;\n",
       "    }\n",
       "\n",
       "    .dataframe tbody tr th {\n",
       "        vertical-align: top;\n",
       "    }\n",
       "\n",
       "    .dataframe thead th {\n",
       "        text-align: right;\n",
       "    }\n",
       "</style>\n",
       "<table border=\"1\" class=\"dataframe\">\n",
       "  <thead>\n",
       "    <tr style=\"text-align: right;\">\n",
       "      <th></th>\n",
       "      <th>ProductID</th>\n",
       "      <th>Inv</th>\n",
       "    </tr>\n",
       "  </thead>\n",
       "  <tbody>\n",
       "    <tr>\n",
       "      <th>0</th>\n",
       "      <td>1</td>\n",
       "      <td>19563</td>\n",
       "    </tr>\n",
       "    <tr>\n",
       "      <th>1</th>\n",
       "      <td>2</td>\n",
       "      <td>13486</td>\n",
       "    </tr>\n",
       "    <tr>\n",
       "      <th>2</th>\n",
       "      <td>3</td>\n",
       "      <td>17234</td>\n",
       "    </tr>\n",
       "    <tr>\n",
       "      <th>3</th>\n",
       "      <td>4</td>\n",
       "      <td>16395</td>\n",
       "    </tr>\n",
       "    <tr>\n",
       "      <th>4</th>\n",
       "      <td>5</td>\n",
       "      <td>18547</td>\n",
       "    </tr>\n",
       "  </tbody>\n",
       "</table>\n",
       "</div>"
      ],
      "text/plain": [
       "   ProductID    Inv\n",
       "0          1  19563\n",
       "1          2  13486\n",
       "2          3  17234\n",
       "3          4  16395\n",
       "4          5  18547"
      ]
     },
     "execution_count": 169,
     "metadata": {},
     "output_type": "execute_result"
    }
   ],
   "source": [
    "# Top 10 Product ID by inventory volume\n",
    "df_prodvol = df_new.groupby('ProductID')['OnHandQty'].sum()\n",
    "df_prodvol = pd.DataFrame(df_prodvol).reset_index()\n",
    "df_prodvol.columns = ['ProductID', 'Inv']\n",
    "df_prodvol.head()"
   ]
  },
  {
   "cell_type": "code",
   "execution_count": 184,
   "metadata": {},
   "outputs": [
    {
     "data": {
      "text/html": [
       "<div>\n",
       "<style scoped>\n",
       "    .dataframe tbody tr th:only-of-type {\n",
       "        vertical-align: middle;\n",
       "    }\n",
       "\n",
       "    .dataframe tbody tr th {\n",
       "        vertical-align: top;\n",
       "    }\n",
       "\n",
       "    .dataframe thead th {\n",
       "        text-align: right;\n",
       "    }\n",
       "</style>\n",
       "<table border=\"1\" class=\"dataframe\">\n",
       "  <thead>\n",
       "    <tr style=\"text-align: right;\">\n",
       "      <th></th>\n",
       "      <th>Inv</th>\n",
       "    </tr>\n",
       "    <tr>\n",
       "      <th>ProductID</th>\n",
       "      <th></th>\n",
       "    </tr>\n",
       "  </thead>\n",
       "  <tbody>\n",
       "    <tr>\n",
       "      <th>2495</th>\n",
       "      <td>363362</td>\n",
       "    </tr>\n",
       "    <tr>\n",
       "      <th>2496</th>\n",
       "      <td>336906</td>\n",
       "    </tr>\n",
       "    <tr>\n",
       "      <th>2494</th>\n",
       "      <td>333082</td>\n",
       "    </tr>\n",
       "    <tr>\n",
       "      <th>2511</th>\n",
       "      <td>312008</td>\n",
       "    </tr>\n",
       "    <tr>\n",
       "      <th>2490</th>\n",
       "      <td>309649</td>\n",
       "    </tr>\n",
       "    <tr>\n",
       "      <th>2517</th>\n",
       "      <td>305359</td>\n",
       "    </tr>\n",
       "    <tr>\n",
       "      <th>2516</th>\n",
       "      <td>304232</td>\n",
       "    </tr>\n",
       "    <tr>\n",
       "      <th>2491</th>\n",
       "      <td>299270</td>\n",
       "    </tr>\n",
       "    <tr>\n",
       "      <th>2510</th>\n",
       "      <td>297231</td>\n",
       "    </tr>\n",
       "    <tr>\n",
       "      <th>2497</th>\n",
       "      <td>297051</td>\n",
       "    </tr>\n",
       "  </tbody>\n",
       "</table>\n",
       "</div>"
      ],
      "text/plain": [
       "              Inv\n",
       "ProductID        \n",
       "2495       363362\n",
       "2496       336906\n",
       "2494       333082\n",
       "2511       312008\n",
       "2490       309649\n",
       "2517       305359\n",
       "2516       304232\n",
       "2491       299270\n",
       "2510       297231\n",
       "2497       297051"
      ]
     },
     "execution_count": 184,
     "metadata": {},
     "output_type": "execute_result"
    }
   ],
   "source": [
    "sort_vol = df_prodvol.sort_values(['Inv'], ascending=False).groupby('ProductID').sum()\n",
    "sort_vol.nlargest(10, ['Inv']) "
   ]
  },
  {
   "cell_type": "code",
   "execution_count": 150,
   "metadata": {},
   "outputs": [
    {
     "data": {
      "text/html": [
       "<div>\n",
       "<style scoped>\n",
       "    .dataframe tbody tr th:only-of-type {\n",
       "        vertical-align: middle;\n",
       "    }\n",
       "\n",
       "    .dataframe tbody tr th {\n",
       "        vertical-align: top;\n",
       "    }\n",
       "\n",
       "    .dataframe thead th {\n",
       "        text-align: right;\n",
       "    }\n",
       "</style>\n",
       "<table border=\"1\" class=\"dataframe\">\n",
       "  <thead>\n",
       "    <tr style=\"text-align: right;\">\n",
       "      <th></th>\n",
       "      <th>DaysInStock</th>\n",
       "      <th>MinDayInStock</th>\n",
       "      <th>MaxDayInStock</th>\n",
       "    </tr>\n",
       "  </thead>\n",
       "  <tbody>\n",
       "    <tr>\n",
       "      <th>count</th>\n",
       "      <td>1.547897e+06</td>\n",
       "      <td>1.547897e+06</td>\n",
       "      <td>1.547897e+06</td>\n",
       "    </tr>\n",
       "    <tr>\n",
       "      <th>mean</th>\n",
       "      <td>4.599223e+01</td>\n",
       "      <td>3.187572e+01</td>\n",
       "      <td>8.958652e+01</td>\n",
       "    </tr>\n",
       "    <tr>\n",
       "      <th>std</th>\n",
       "      <td>2.291037e+01</td>\n",
       "      <td>1.587066e+01</td>\n",
       "      <td>1.732875e+01</td>\n",
       "    </tr>\n",
       "    <tr>\n",
       "      <th>min</th>\n",
       "      <td>5.000000e+00</td>\n",
       "      <td>5.000000e+00</td>\n",
       "      <td>6.000000e+01</td>\n",
       "    </tr>\n",
       "    <tr>\n",
       "      <th>25%</th>\n",
       "      <td>3.000000e+01</td>\n",
       "      <td>1.800000e+01</td>\n",
       "      <td>7.500000e+01</td>\n",
       "    </tr>\n",
       "    <tr>\n",
       "      <th>50%</th>\n",
       "      <td>4.500000e+01</td>\n",
       "      <td>3.200000e+01</td>\n",
       "      <td>9.000000e+01</td>\n",
       "    </tr>\n",
       "    <tr>\n",
       "      <th>75%</th>\n",
       "      <td>6.100000e+01</td>\n",
       "      <td>4.600000e+01</td>\n",
       "      <td>1.050000e+02</td>\n",
       "    </tr>\n",
       "    <tr>\n",
       "      <th>max</th>\n",
       "      <td>1.190000e+02</td>\n",
       "      <td>5.900000e+01</td>\n",
       "      <td>1.190000e+02</td>\n",
       "    </tr>\n",
       "  </tbody>\n",
       "</table>\n",
       "</div>"
      ],
      "text/plain": [
       "        DaysInStock  MinDayInStock  MaxDayInStock\n",
       "count  1.547897e+06   1.547897e+06   1.547897e+06\n",
       "mean   4.599223e+01   3.187572e+01   8.958652e+01\n",
       "std    2.291037e+01   1.587066e+01   1.732875e+01\n",
       "min    5.000000e+00   5.000000e+00   6.000000e+01\n",
       "25%    3.000000e+01   1.800000e+01   7.500000e+01\n",
       "50%    4.500000e+01   3.200000e+01   9.000000e+01\n",
       "75%    6.100000e+01   4.600000e+01   1.050000e+02\n",
       "max    1.190000e+02   5.900000e+01   1.190000e+02"
      ]
     },
     "execution_count": 150,
     "metadata": {},
     "output_type": "execute_result"
    }
   ],
   "source": [
    "# objective: to identify slow moving products (by productID)\n",
    "# get slow MaxDayInStock in the 75% percentile\n",
    "df_new[[\"DaysInStock\", \"MinDayInStock\", \"MaxDayInStock\"]].describe()"
   ]
  },
  {
   "cell_type": "code",
   "execution_count": 185,
   "metadata": {},
   "outputs": [
    {
     "data": {
      "text/html": [
       "<div>\n",
       "<style scoped>\n",
       "    .dataframe tbody tr th:only-of-type {\n",
       "        vertical-align: middle;\n",
       "    }\n",
       "\n",
       "    .dataframe tbody tr th {\n",
       "        vertical-align: top;\n",
       "    }\n",
       "\n",
       "    .dataframe thead th {\n",
       "        text-align: right;\n",
       "    }\n",
       "</style>\n",
       "<table border=\"1\" class=\"dataframe\">\n",
       "  <thead>\n",
       "    <tr style=\"text-align: right;\">\n",
       "      <th></th>\n",
       "      <th>StoreID</th>\n",
       "      <th>OnHandQty</th>\n",
       "      <th>OnOrderQty</th>\n",
       "      <th>DaysInStock</th>\n",
       "      <th>MinDayInStock</th>\n",
       "      <th>MaxDayInStock</th>\n",
       "      <th>month</th>\n",
       "    </tr>\n",
       "    <tr>\n",
       "      <th>ProductID</th>\n",
       "      <th></th>\n",
       "      <th></th>\n",
       "      <th></th>\n",
       "      <th></th>\n",
       "      <th></th>\n",
       "      <th></th>\n",
       "      <th></th>\n",
       "    </tr>\n",
       "  </thead>\n",
       "  <tbody>\n",
       "    <tr>\n",
       "      <th>377</th>\n",
       "      <td>306985</td>\n",
       "      <td>38267</td>\n",
       "      <td>3363</td>\n",
       "      <td>88419</td>\n",
       "      <td>62188</td>\n",
       "      <td>178473</td>\n",
       "      <td>12721</td>\n",
       "    </tr>\n",
       "    <tr>\n",
       "      <th>371</th>\n",
       "      <td>291972</td>\n",
       "      <td>38339</td>\n",
       "      <td>2840</td>\n",
       "      <td>86007</td>\n",
       "      <td>57685</td>\n",
       "      <td>170545</td>\n",
       "      <td>11853</td>\n",
       "    </tr>\n",
       "    <tr>\n",
       "      <th>401</th>\n",
       "      <td>292466</td>\n",
       "      <td>58435</td>\n",
       "      <td>6679</td>\n",
       "      <td>83637</td>\n",
       "      <td>63333</td>\n",
       "      <td>169930</td>\n",
       "      <td>12067</td>\n",
       "    </tr>\n",
       "    <tr>\n",
       "      <th>407</th>\n",
       "      <td>289903</td>\n",
       "      <td>37776</td>\n",
       "      <td>3374</td>\n",
       "      <td>83720</td>\n",
       "      <td>58264</td>\n",
       "      <td>169680</td>\n",
       "      <td>11780</td>\n",
       "    </tr>\n",
       "    <tr>\n",
       "      <th>347</th>\n",
       "      <td>297887</td>\n",
       "      <td>37174</td>\n",
       "      <td>3380</td>\n",
       "      <td>79304</td>\n",
       "      <td>59684</td>\n",
       "      <td>168520</td>\n",
       "      <td>12066</td>\n",
       "    </tr>\n",
       "    <tr>\n",
       "      <th>345</th>\n",
       "      <td>284741</td>\n",
       "      <td>36968</td>\n",
       "      <td>3180</td>\n",
       "      <td>83506</td>\n",
       "      <td>59255</td>\n",
       "      <td>168319</td>\n",
       "      <td>11730</td>\n",
       "    </tr>\n",
       "    <tr>\n",
       "      <th>393</th>\n",
       "      <td>291878</td>\n",
       "      <td>37316</td>\n",
       "      <td>3248</td>\n",
       "      <td>84042</td>\n",
       "      <td>58583</td>\n",
       "      <td>168234</td>\n",
       "      <td>12091</td>\n",
       "    </tr>\n",
       "    <tr>\n",
       "      <th>359</th>\n",
       "      <td>288240</td>\n",
       "      <td>36523</td>\n",
       "      <td>3282</td>\n",
       "      <td>81230</td>\n",
       "      <td>59871</td>\n",
       "      <td>167955</td>\n",
       "      <td>11323</td>\n",
       "    </tr>\n",
       "    <tr>\n",
       "      <th>381</th>\n",
       "      <td>300985</td>\n",
       "      <td>36366</td>\n",
       "      <td>3144</td>\n",
       "      <td>84640</td>\n",
       "      <td>58521</td>\n",
       "      <td>167648</td>\n",
       "      <td>11397</td>\n",
       "    </tr>\n",
       "    <tr>\n",
       "      <th>413</th>\n",
       "      <td>285215</td>\n",
       "      <td>36847</td>\n",
       "      <td>3231</td>\n",
       "      <td>80263</td>\n",
       "      <td>60107</td>\n",
       "      <td>167008</td>\n",
       "      <td>11532</td>\n",
       "    </tr>\n",
       "  </tbody>\n",
       "</table>\n",
       "</div>"
      ],
      "text/plain": [
       "           StoreID  OnHandQty  OnOrderQty  DaysInStock  MinDayInStock  \\\n",
       "ProductID                                                               \n",
       "377         306985      38267        3363        88419          62188   \n",
       "371         291972      38339        2840        86007          57685   \n",
       "401         292466      58435        6679        83637          63333   \n",
       "407         289903      37776        3374        83720          58264   \n",
       "347         297887      37174        3380        79304          59684   \n",
       "345         284741      36968        3180        83506          59255   \n",
       "393         291878      37316        3248        84042          58583   \n",
       "359         288240      36523        3282        81230          59871   \n",
       "381         300985      36366        3144        84640          58521   \n",
       "413         285215      36847        3231        80263          60107   \n",
       "\n",
       "           MaxDayInStock  month  \n",
       "ProductID                        \n",
       "377               178473  12721  \n",
       "371               170545  11853  \n",
       "401               169930  12067  \n",
       "407               169680  11780  \n",
       "347               168520  12066  \n",
       "345               168319  11730  \n",
       "393               168234  12091  \n",
       "359               167955  11323  \n",
       "381               167648  11397  \n",
       "413               167008  11532  "
      ]
     },
     "execution_count": 185,
     "metadata": {},
     "output_type": "execute_result"
    }
   ],
   "source": [
    "# Top 10 inventory by maxday in stock\n",
    "\n",
    "sort_day = df_new.sort_values(['MaxDayInStock'], ascending=False).groupby('ProductID').sum()\n",
    "sort_day.nlargest(10, ['MaxDayInStock']) "
   ]
  },
  {
   "cell_type": "code",
   "execution_count": null,
   "metadata": {},
   "outputs": [],
   "source": []
  },
  {
   "cell_type": "code",
   "execution_count": null,
   "metadata": {},
   "outputs": [],
   "source": []
  },
  {
   "cell_type": "code",
   "execution_count": null,
   "metadata": {},
   "outputs": [],
   "source": []
  }
 ],
 "metadata": {
  "kernelspec": {
   "display_name": "Python 3",
   "language": "python",
   "name": "python3"
  },
  "language_info": {
   "codemirror_mode": {
    "name": "ipython",
    "version": 3
   },
   "file_extension": ".py",
   "mimetype": "text/x-python",
   "name": "python",
   "nbconvert_exporter": "python",
   "pygments_lexer": "ipython3",
   "version": "3.7.7"
  }
 },
 "nbformat": 4,
 "nbformat_minor": 4
}
